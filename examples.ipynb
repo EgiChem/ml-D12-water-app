{
 "cells": [
  {
   "cell_type": "markdown",
   "id": "3817c004-b86d-4ffb-9ac9-f4b6ab55218a",
   "metadata": {},
   "source": [
    "# Example usage"
   ]
  },
  {
   "cell_type": "markdown",
   "id": "15e77918-cea6-4299-b0cf-c6a6c454b034",
   "metadata": {},
   "source": [
    "## Using the ML-Prop-4 model"
   ]
  },
  {
   "cell_type": "code",
   "execution_count": 1,
   "id": "7071834f-062b-44be-ac86-c636815ee93a",
   "metadata": {},
   "outputs": [],
   "source": [
    "# Model inputs\n",
    "temperature = [313]\n",
    "viscosity = [0.65482199]\n",
    "critical_volume = [93.9]\n",
    "LJ_diameter = [3.26192]"
   ]
  },
  {
   "cell_type": "code",
   "execution_count": 2,
   "id": "b3d184ea-9b0e-4b5f-92f8-ad17ddf257df",
   "metadata": {},
   "outputs": [
    {
     "data": {
      "text/plain": [
       "array([2.77346518e-05])"
      ]
     },
     "execution_count": 2,
     "metadata": {},
     "output_type": "execute_result"
    }
   ],
   "source": [
    "from ml_D12_water import ML_Prop_4\n",
    "\n",
    "model = ML_Prop_4()\n",
    "\n",
    "D12_pred = model.predict(\n",
    "    temp=temperature, visc=viscosity, crit_vol=critical_volume, diam_lj=LJ_diameter\n",
    ")\n",
    "\n",
    "D12_pred"
   ]
  },
  {
   "cell_type": "markdown",
   "id": "96e14495-279e-4c2c-a127-952c98336b02",
   "metadata": {},
   "source": [
    "## Using the ML-T-RDKit model"
   ]
  },
  {
   "cell_type": "code",
   "execution_count": 3,
   "id": "8829fc57-0e76-4e33-b34a-17a2a315fdc8",
   "metadata": {},
   "outputs": [],
   "source": [
    "# Model inputs\n",
    "temperature = [313]\n",
    "smiles = ['C(=O)=O']"
   ]
  },
  {
   "cell_type": "code",
   "execution_count": 4,
   "id": "0a00441f-f5b4-496c-9d98-6c0012e0a433",
   "metadata": {},
   "outputs": [
    {
     "ename": "NameError",
     "evalue": "name 'df' is not defined",
     "output_type": "error",
     "traceback": [
      "\u001b[1;31m---------------------------------------------------------------------------\u001b[0m",
      "\u001b[1;31mNameError\u001b[0m                                 Traceback (most recent call last)",
      "Cell \u001b[1;32mIn[4], line 5\u001b[0m\n\u001b[0;32m      1\u001b[0m \u001b[38;5;28;01mfrom\u001b[39;00m \u001b[38;5;21;01mml_D12_water\u001b[39;00m \u001b[38;5;28;01mimport\u001b[39;00m ML_T_RDKit\n\u001b[0;32m      3\u001b[0m model \u001b[38;5;241m=\u001b[39m ML_T_RDKit()\n\u001b[1;32m----> 5\u001b[0m D12_pred \u001b[38;5;241m=\u001b[39m \u001b[43mmodel\u001b[49m\u001b[38;5;241;43m.\u001b[39;49m\u001b[43mpredict\u001b[49m\u001b[43m(\u001b[49m\n\u001b[0;32m      6\u001b[0m \u001b[43m    \u001b[49m\u001b[43mtemp\u001b[49m\u001b[38;5;241;43m=\u001b[39;49m\u001b[43mtemperature\u001b[49m\u001b[43m,\u001b[49m\u001b[43m \u001b[49m\u001b[43msmiles\u001b[49m\u001b[38;5;241;43m=\u001b[39;49m\u001b[43msmiles\u001b[49m\n\u001b[0;32m      7\u001b[0m \u001b[43m)\u001b[49m\n\u001b[0;32m      9\u001b[0m D12_pred\n",
      "File \u001b[1;32m~\\OneDrive - Universidade de Aveiro\\D12\\ml-D12-water-app\\ml_D12_water.py:61\u001b[0m, in \u001b[0;36mML_T_RDKit.predict\u001b[1;34m(self, temp, smiles)\u001b[0m\n\u001b[0;32m     56\u001b[0m data_dict \u001b[38;5;241m=\u001b[39m {\n\u001b[0;32m     57\u001b[0m     \u001b[38;5;124m'\u001b[39m\u001b[38;5;124mT\u001b[39m\u001b[38;5;124m'\u001b[39m: temp,\n\u001b[0;32m     58\u001b[0m     \u001b[38;5;124m'\u001b[39m\u001b[38;5;124mcanonical_smiles\u001b[39m\u001b[38;5;124m'\u001b[39m: smiles,\n\u001b[0;32m     59\u001b[0m }\n\u001b[0;32m     60\u001b[0m \u001b[38;5;28mself\u001b[39m\u001b[38;5;241m.\u001b[39mdata_df \u001b[38;5;241m=\u001b[39m pd\u001b[38;5;241m.\u001b[39mDataFrame\u001b[38;5;241m.\u001b[39mfrom_dict(data_dict)\n\u001b[1;32m---> 61\u001b[0m data_descriptors_df \u001b[38;5;241m=\u001b[39m \u001b[38;5;28;43mself\u001b[39;49m\u001b[38;5;241;43m.\u001b[39;49m\u001b[43mget_RDKit_descriptors\u001b[49m\u001b[43m(\u001b[49m\u001b[43m)\u001b[49m\n\u001b[0;32m     62\u001b[0m \u001b[38;5;28;01mreturn\u001b[39;00m \u001b[38;5;28mself\u001b[39m\u001b[38;5;241m.\u001b[39mmodel_pipeline\u001b[38;5;241m.\u001b[39mpredict(data_descriptors_df)\n",
      "File \u001b[1;32m~\\OneDrive - Universidade de Aveiro\\D12\\ml-D12-water-app\\ml_D12_water.py:35\u001b[0m, in \u001b[0;36mML_T_RDKit.get_RDKit_descriptors\u001b[1;34m(self)\u001b[0m\n\u001b[0;32m     32\u001b[0m \u001b[38;5;28;01mfrom\u001b[39;00m \u001b[38;5;21;01mdescriptastorus\u001b[39;00m\u001b[38;5;21;01m.\u001b[39;00m\u001b[38;5;21;01mdescriptors\u001b[39;00m\u001b[38;5;21;01m.\u001b[39;00m\u001b[38;5;21;01mDescriptorGenerator\u001b[39;00m \u001b[38;5;28;01mimport\u001b[39;00m MakeGenerator\n\u001b[0;32m     34\u001b[0m \u001b[38;5;66;03m# Add RDKit mol objects\u001b[39;00m\n\u001b[1;32m---> 35\u001b[0m \u001b[43mdf\u001b[49m[\u001b[38;5;124m'\u001b[39m\u001b[38;5;124mmol\u001b[39m\u001b[38;5;124m'\u001b[39m] \u001b[38;5;241m=\u001b[39m [Chem\u001b[38;5;241m.\u001b[39mMolFromSmiles(smi) \u001b[38;5;28;01mfor\u001b[39;00m smi \u001b[38;5;129;01min\u001b[39;00m \u001b[38;5;28mself\u001b[39m\u001b[38;5;241m.\u001b[39mdata_df[\u001b[38;5;124m'\u001b[39m\u001b[38;5;124mcanonical_smiles\u001b[39m\u001b[38;5;124m'\u001b[39m]\u001b[38;5;241m.\u001b[39mto_list()]\n\u001b[0;32m     37\u001b[0m \u001b[38;5;66;03m# Compute descriptors\u001b[39;00m\n\u001b[0;32m     38\u001b[0m generator \u001b[38;5;241m=\u001b[39m MakeGenerator((\u001b[38;5;124m'\u001b[39m\u001b[38;5;124mRDKit2D\u001b[39m\u001b[38;5;124m'\u001b[39m,))\n",
      "\u001b[1;31mNameError\u001b[0m: name 'df' is not defined"
     ]
    }
   ],
   "source": [
    "from ml_D12_water import ML_T_RDKit\n",
    "\n",
    "model = ML_T_RDKit()\n",
    "\n",
    "D12_pred = model.predict(\n",
    "    temp=temperature, smiles=smiles\n",
    ")\n",
    "\n",
    "D12_pred"
   ]
  }
 ],
 "metadata": {
  "kernelspec": {
   "display_name": "Python 3 (ipykernel)",
   "language": "python",
   "name": "python3"
  },
  "language_info": {
   "codemirror_mode": {
    "name": "ipython",
    "version": 3
   },
   "file_extension": ".py",
   "mimetype": "text/x-python",
   "name": "python",
   "nbconvert_exporter": "python",
   "pygments_lexer": "ipython3",
   "version": "3.9.16"
  }
 },
 "nbformat": 4,
 "nbformat_minor": 5
}
