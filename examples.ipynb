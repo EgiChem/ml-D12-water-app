{
 "cells": [
  {
   "cell_type": "markdown",
   "id": "3817c004-b86d-4ffb-9ac9-f4b6ab55218a",
   "metadata": {},
   "source": [
    "# Example usage"
   ]
  },
  {
   "cell_type": "markdown",
   "id": "15e77918-cea6-4299-b0cf-c6a6c454b034",
   "metadata": {},
   "source": [
    "## Using the ML-Prop-4 model"
   ]
  },
  {
   "cell_type": "code",
   "execution_count": 1,
   "id": "7071834f-062b-44be-ac86-c636815ee93a",
   "metadata": {},
   "outputs": [],
   "source": [
    "# Model inputs\n",
    "temperature = [313]\n",
    "viscosity = [0.65482199]\n",
    "critical_volume = [93.9]\n",
    "LJ_diameter = [3.26192]"
   ]
  },
  {
   "cell_type": "code",
   "execution_count": 2,
   "id": "b3d184ea-9b0e-4b5f-92f8-ad17ddf257df",
   "metadata": {},
   "outputs": [
    {
     "name": "stdout",
     "output_type": "stream",
     "text": [
      "Predicted D12: 2.773465183585141e-05\n"
     ]
    }
   ],
   "source": [
    "from ml_D12_water import ML_Prop_4\n",
    "\n",
    "model = ML_Prop_4()\n",
    "\n",
    "D12_pred = model.predict(\n",
    "    temp=temperature, visc=viscosity, crit_vol=critical_volume, diam_lj=LJ_diameter\n",
    ")\n",
    "\n",
    "print('Predicted D12 (cm2/s):', D12_pred[0])"
   ]
  },
  {
   "cell_type": "markdown",
   "id": "96e14495-279e-4c2c-a127-952c98336b02",
   "metadata": {},
   "source": [
    "## Using the ML-T-RDKit model"
   ]
  },
  {
   "cell_type": "code",
   "execution_count": 3,
   "id": "8829fc57-0e76-4e33-b34a-17a2a315fdc8",
   "metadata": {},
   "outputs": [],
   "source": [
    "# Model inputs\n",
    "temperature = [313]\n",
    "smiles = ['C(=O)=O']"
   ]
  },
  {
   "cell_type": "code",
   "execution_count": 4,
   "id": "0a00441f-f5b4-496c-9d98-6c0012e0a433",
   "metadata": {},
   "outputs": [
    {
     "name": "stdout",
     "output_type": "stream",
     "text": [
      "Predicted D12: 2.8105913853864414e-05\n"
     ]
    }
   ],
   "source": [
    "from ml_D12_water import ML_T_RDKit\n",
    "\n",
    "model = ML_T_RDKit()\n",
    "\n",
    "D12_pred = model.predict(\n",
    "    temp=temperature, smiles=smiles\n",
    ")\n",
    "\n",
    "print('Predicted D12 (cm2/s):', D12_pred[0])"
   ]
  },
  {
   "cell_type": "markdown",
   "id": "314e11f0-52fb-4dc5-946a-b4b762693dd4",
   "metadata": {},
   "source": [
    "**If you wish to do run multiple predictions at once:**"
   ]
  },
  {
   "cell_type": "code",
   "execution_count": 5,
   "id": "02b19375-1c9f-4351-af6b-11f89a8aa0a8",
   "metadata": {},
   "outputs": [
    {
     "data": {
      "text/plain": [
       "array([2.81059139e-05, 1.01639130e-05])"
      ]
     },
     "execution_count": 5,
     "metadata": {},
     "output_type": "execute_result"
    }
   ],
   "source": [
    "# Model inputs\n",
    "temperature = [313, 303.2]\n",
    "smiles = [\n",
    "    'C(=O)=O',  # CO2\n",
    "    'O=CC1=CC=C(O)C(OC)=C1',  # vanilin\n",
    "]\n",
    "\n",
    "D12_pred = model.predict(\n",
    "    temp=temperature, smiles=smiles\n",
    ")\n",
    "D12_pred"
   ]
  }
 ],
 "metadata": {
  "kernelspec": {
   "display_name": "Python 3 (ipykernel)",
   "language": "python",
   "name": "python3"
  },
  "language_info": {
   "codemirror_mode": {
    "name": "ipython",
    "version": 3
   },
   "file_extension": ".py",
   "mimetype": "text/x-python",
   "name": "python",
   "nbconvert_exporter": "python",
   "pygments_lexer": "ipython3",
   "version": "3.9.16"
  }
 },
 "nbformat": 4,
 "nbformat_minor": 5
}
